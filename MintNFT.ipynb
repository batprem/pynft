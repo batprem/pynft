{
 "cells": [
  {
   "cell_type": "markdown",
   "id": "683da88b",
   "metadata": {},
   "source": [
    "# Requirements\n",
    "\n",
    "## Python"
   ]
  },
  {
   "cell_type": "code",
   "execution_count": 1,
   "id": "932fdb55",
   "metadata": {},
   "outputs": [
    {
     "name": "stdout",
     "output_type": "stream",
     "text": [
      "Python version 3.8.12\n"
     ]
    }
   ],
   "source": [
    "import sys\n",
    "\n",
    "\n",
    "python_version = (\n",
    "    f\"{sys.version_info.major}.\"\n",
    "    f\"{sys.version_info.minor}.\"\n",
    "    f\"{sys.version_info.micro}\"\n",
    ")\n",
    "print(f\"Python version {python_version}\")"
   ]
  },
  {
   "cell_type": "markdown",
   "id": "e1a0ee30",
   "metadata": {},
   "source": [
    "Choose any following methods to install dependcies\n",
    "* poetry (recommend) <br/><br/>\n",
    " `poetry install` <br/><br/>\n",
    "* pip <br/><br/>\n",
    "`pip install -r requirements.txt`\n",
    "\n",
    "## IPFS CLI\n",
    "\n",
    "Follow this URL https://docs.ipfs.io/install/command-line/#official-distributions"
   ]
  },
  {
   "cell_type": "markdown",
   "id": "c174723b",
   "metadata": {},
   "source": [
    "# Import modules"
   ]
  },
  {
   "cell_type": "code",
   "execution_count": 2,
   "id": "bc4aa873",
   "metadata": {},
   "outputs": [],
   "source": [
    "import brownie\n",
    "from brownie import accounts, project, config, network\n",
    "\n",
    "# Compile smart contracts\n",
    "p = project.load('.', name=\"pynft\")\n",
    "p.load_config()"
   ]
  },
  {
   "cell_type": "markdown",
   "id": "96f6da12",
   "metadata": {},
   "source": [
    "# Connect to chain"
   ]
  },
  {
   "cell_type": "code",
   "execution_count": 3,
   "id": "8df68063",
   "metadata": {},
   "outputs": [
    {
     "name": "stdout",
     "output_type": "stream",
     "text": [
      "Available networks\n",
      "Brownie v1.17.0 - Python development framework for Ethereum\n",
      "\n",
      "The following networks are declared:\n",
      "\n",
      "Ethereum\n",
      "\u001b[0;1;30m  ├─\u001b[0;mMainnet (Infura): \u001b[0;32mmainnet\u001b[0;m\n",
      "\u001b[0;1;30m  ├─\u001b[0;mRopsten (Infura): \u001b[0;32mropsten\u001b[0;m\n",
      "\u001b[0;1;30m  ├─\u001b[0;mRinkeby (Infura): \u001b[0;32mrinkeby\u001b[0;m\n",
      "\u001b[0;1;30m  ├─\u001b[0;mGoerli (Infura): \u001b[0;32mgoerli\u001b[0;m\n",
      "\u001b[0;1;30m  ├─\u001b[0;mKovan (Infura): \u001b[0;32mkovan\u001b[0;m\n",
      "\u001b[0;1;30m  ├─\u001b[0;mmainnet-fork-2: \u001b[0;32mmainnet-fork-2\u001b[0;m\n",
      "\u001b[0;1;30m  ├─\u001b[0;mmainnet-fork-3: \u001b[0;32mmainnet-fork-3\u001b[0;m\n",
      "\u001b[0;1;30m  ├─\u001b[0;mmainnet-fork-4: \u001b[0;32mmainnet-fork-4\u001b[0;m\n",
      "\u001b[0;1;30m  └─\u001b[0;mmainnet-fork-5: \u001b[0;32mmainnet-fork-5\u001b[0;m\n",
      "\n",
      "Ethereum Classic\n",
      "\u001b[0;1;30m  ├─\u001b[0;mMainnet: \u001b[0;32metc\u001b[0;m\n",
      "\u001b[0;1;30m  └─\u001b[0;mKotti: \u001b[0;32mkotti\u001b[0;m\n",
      "\n",
      "Arbitrum\n",
      "\u001b[0;1;30m  └─\u001b[0;mMainnet: \u001b[0;32marbitrum-main\u001b[0;m\n",
      "\n",
      "Binance Smart Chain\n",
      "\u001b[0;1;30m  ├─\u001b[0;mTestnet: \u001b[0;32mbsc-test\u001b[0;m\n",
      "\u001b[0;1;30m  └─\u001b[0;mMainnet: \u001b[0;32mbsc-main\u001b[0;m\n",
      "\n",
      "Fantom Opera\n",
      "\u001b[0;1;30m  ├─\u001b[0;mTestnet: \u001b[0;32mftm-test\u001b[0;m\n",
      "\u001b[0;1;30m  └─\u001b[0;mMainnet: \u001b[0;32mftm-main\u001b[0;m\n",
      "\n",
      "Harmony\n",
      "\u001b[0;1;30m  └─\u001b[0;mMainnet (Shard 0): \u001b[0;32mharmony-main\u001b[0;m\n",
      "\n",
      "Polygon\n",
      "\u001b[0;1;30m  ├─\u001b[0;mMainnet (Infura): \u001b[0;32mpolygon-main\u001b[0;m\n",
      "\u001b[0;1;30m  └─\u001b[0;mMumbai Testnet (Infura): \u001b[0;32mpolygon-test\u001b[0;m\n",
      "\n",
      "XDai\n",
      "\u001b[0;1;30m  ├─\u001b[0;mMainnet: \u001b[0;32mxdai-main\u001b[0;m\n",
      "\u001b[0;1;30m  └─\u001b[0;mTestnet: \u001b[0;32mxdai-test\u001b[0;m\n",
      "\n",
      "Eherium\n",
      "\u001b[0;1;30m  └─\u001b[0;mganache-local: \u001b[0;32mganache-local\u001b[0;m\n",
      "\n",
      "Etherium\n",
      "\u001b[0;1;30m  └─\u001b[0;mganache-local-2: \u001b[0;32mganache-local-2\u001b[0;m\n",
      "\n",
      "cronos\n",
      "\u001b[0;1;30m  └─\u001b[0;mcronos-testnet: \u001b[0;32mcronos-testnet\u001b[0;m\n",
      "\n",
      "Development\n",
      "\u001b[0;1;30m  ├─\u001b[0;mGanache-CLI: \u001b[0;32mdevelopment\u001b[0;m\n",
      "\u001b[0;1;30m  ├─\u001b[0;mGeth Dev: \u001b[0;32mgeth-dev\u001b[0;m\n",
      "\u001b[0;1;30m  ├─\u001b[0;mHardhat: \u001b[0;32mhardhat\u001b[0;m\n",
      "\u001b[0;1;30m  ├─\u001b[0;mHardhat (Mainnet Fork): \u001b[0;32mhardhat-fork\u001b[0;m\n",
      "\u001b[0;1;30m  ├─\u001b[0;mGanache-CLI (Mainnet Fork): \u001b[0;32mmainnet-fork\u001b[0;m\n",
      "\u001b[0;1;30m  ├─\u001b[0;mGanache-CLI (BSC-Mainnet Fork): \u001b[0;32mbsc-main-fork\u001b[0;m\n",
      "\u001b[0;1;30m  ├─\u001b[0;mGanache-CLI (FTM-Mainnet Fork): \u001b[0;32mftm-main-fork\u001b[0;m\n",
      "\u001b[0;1;30m  ├─\u001b[0;mGanache-CLI (Polygon-Mainnet Fork): \u001b[0;32mpolygon-main-fork\u001b[0;m\n",
      "\u001b[0;1;30m  ├─\u001b[0;mGanache-CLI (XDai-Mainnet Fork): \u001b[0;32mxdai-main-fork\u001b[0;m\n",
      "\u001b[0;1;30m  ├─\u001b[0;mlocal: \u001b[0;32mlocal\u001b[0;m\n",
      "\u001b[0;1;30m  ├─\u001b[0;mmainnet-fork-dev: \u001b[0;32mmainnet-fork-dev\u001b[0;m\n",
      "\u001b[0;1;30m  └─\u001b[0;mcronos-mainnet-fork: \u001b[0;32mcronos-mainnet-fork\u001b[0;m\n",
      "\n"
     ]
    }
   ],
   "source": [
    "import os\n",
    "\n",
    "print(\"Available networks\")\n",
    "print(os.popen(\"brownie networks list\").read())"
   ]
  },
  {
   "cell_type": "markdown",
   "id": "f9f294ca",
   "metadata": {},
   "source": [
    "## Connect"
   ]
  },
  {
   "cell_type": "code",
   "execution_count": 4,
   "id": "5f83d52e",
   "metadata": {},
   "outputs": [],
   "source": [
    "NETWORK = \"rinkeby\"\n",
    "# network.connect(NETWORK) # Main net fork\n",
    "# network.connect(NETWORK) # Main net\n",
    "network.connect(NETWORK) # Test net rinkeby"
   ]
  },
  {
   "cell_type": "markdown",
   "id": "33499f60",
   "metadata": {},
   "source": [
    "# Account"
   ]
  },
  {
   "cell_type": "code",
   "execution_count": 5,
   "id": "7791f14b",
   "metadata": {},
   "outputs": [
    {
     "name": "stdout",
     "output_type": "stream",
     "text": [
      "Brownie v1.17.0 - Python development framework for Ethereum\r\n",
      "\r\n",
      "Found 4 accounts:\r\n",
      " \u001b[0;1;30m├─\u001b[0;1;34meth-main\u001b[0;m: \u001b[0;1;35m0xf6EfbD8142A18E741360b41301eDFdbD2719D03C\u001b[0;m\r\n",
      " \u001b[0;1;30m├─\u001b[0;1;34mprem\u001b[0;m: \u001b[0;1;35m0xedEa45C169753E1af9bf1cb1c374Ca83EBd0d6BE\u001b[0;m\r\n",
      " \u001b[0;1;30m├─\u001b[0;1;34mtest\u001b[0;m: \u001b[0;1;35m0xA3c11aDE2244474EB2F8167921216AB6541F9bA8\u001b[0;m\r\n",
      " \u001b[0;1;30m└─\u001b[0;1;34mtest_2\u001b[0;m: \u001b[0;1;35m0xA3c11aDE2244474EB2F8167921216AB6541F9bA8\u001b[0;m\r\n"
     ]
    }
   ],
   "source": [
    "!brownie accounts list"
   ]
  },
  {
   "cell_type": "code",
   "execution_count": 6,
   "id": "f89d7060",
   "metadata": {},
   "outputs": [
    {
     "name": "stdout",
     "output_type": "stream",
     "text": [
      "Enter password for \"eth-main\": ········\n"
     ]
    }
   ],
   "source": [
    "if NETWORK == \"mainnet\" and False:\n",
    "    from scripts.helpful_script import get_account\n",
    "\n",
    "    account = get_account()\n",
    "\n",
    "else:\n",
    "    from brownie import accounts\n",
    "\n",
    "    accounts.load(\"eth-main\") # Main net\n",
    "    account = accounts[0]\n"
   ]
  },
  {
   "cell_type": "code",
   "execution_count": 7,
   "id": "01f25d0a",
   "metadata": {},
   "outputs": [
    {
     "name": "stdout",
     "output_type": "stream",
     "text": [
      "0xf6EfbD8142A18E741360b41301eDFdbD2719D03C\n"
     ]
    }
   ],
   "source": [
    "print(account)"
   ]
  },
  {
   "cell_type": "markdown",
   "id": "063ad834",
   "metadata": {},
   "source": [
    "# Dump variables"
   ]
  },
  {
   "cell_type": "code",
   "execution_count": 8,
   "id": "a188f2d7",
   "metadata": {},
   "outputs": [
    {
     "name": "stdout",
     "output_type": "stream",
     "text": [
      "_path\n",
      "_envvars\n",
      "_structure\n",
      "_build_path\n",
      "_name\n",
      "_active\n",
      "_sources\n",
      "_build\n",
      "_compiler_config\n",
      "interface\n",
      "_containers\n",
      "PYNFT\n",
      "ERC721\n",
      "Strings\n",
      "__all__\n",
      "_namespaces\n"
     ]
    }
   ],
   "source": [
    "for key, value in p.__dict__.items():\n",
    "    print(key)\n",
    "    brownie.__dict__[key] = p.__dict__[key]"
   ]
  },
  {
   "cell_type": "markdown",
   "id": "1db5d20e",
   "metadata": {},
   "source": [
    "# Deploy contracts"
   ]
  },
  {
   "cell_type": "code",
   "execution_count": 10,
   "id": "100692c5",
   "metadata": {},
   "outputs": [
    {
     "name": "stdout",
     "output_type": "stream",
     "text": [
      "Transaction sent: \u001b[0;1;34m0xa2a16103b7ce13a0015421ea2cfdbb3319f6617d16e65c6175a50ea57a09bfab\u001b[0;m\n",
      "  Gas price: \u001b[0;1;34m1.705944452\u001b[0;m gwei   Gas limit: \u001b[0;1;34m1419476\u001b[0;m   Nonce: \u001b[0;1;34m29\u001b[0;m\n",
      "  PYNFT.constructor confirmed   Block: \u001b[0;1;34m10057857\u001b[0;m   Gas used: \u001b[0;1;34m1290433\u001b[0;m (\u001b[0;1;34m90.91%\u001b[0;m)\n",
      "  PYNFT deployed at: \u001b[0;1;34m0xeee906fAE06C0456b57A11cBd5Cec4628fBDAAf2\u001b[0;m\n",
      "\n"
     ]
    }
   ],
   "source": [
    "from brownie import PYNFT\n",
    "\n",
    "\n",
    "pynft = PYNFT.deploy({\"from\": account})"
   ]
  },
  {
   "cell_type": "markdown",
   "id": "41eaaa8d",
   "metadata": {},
   "source": [
    "# Upload file to IPFS"
   ]
  },
  {
   "cell_type": "markdown",
   "id": "44887b5d",
   "metadata": {},
   "source": [
    "## Assets"
   ]
  },
  {
   "cell_type": "code",
   "execution_count": 11,
   "id": "acf5e73f",
   "metadata": {},
   "outputs": [
    {
     "name": "stdout",
     "output_type": "stream",
     "text": [
      "https://ipfs.io/ipfs/Qmda8x41dArU36LKveHzSN3NPJjWxFgyeNNLM8uUMqtMNr?filename=my-first-python-code.png\n",
      "https://ipfs.io/ipfs/QmUoGY6GbvzSQi2gP7YHtVMRocNW1Xs16ZUHxWcTgWHwJb?filename=fruit-list.py\n"
     ]
    }
   ],
   "source": [
    "prefix = \"assets/\"\n",
    "\n",
    "\n",
    "def upload_to_ipfs(filepath: str) -> str:\n",
    "    return os.popen(f\"ipfs add -q {filepath}\").read().strip()\n",
    "\n",
    "def is_an_image(filename: str):\n",
    "    \"\"\"\n",
    "    Description:\n",
    "        Check if a file is an image\n",
    "    paramgs:\n",
    "        filename:\n",
    "            (str) filename, should be with its extension\n",
    "    returns:\n",
    "        (str) qid of ipfs\n",
    "    \"\"\"\n",
    "    for extention in [\".png\", \"jpg\"]:\n",
    "        if filename.endswith(extention):\n",
    "            return True\n",
    "    return False\n",
    "\n",
    "def set_ipfs_share_link(prefix: str, asset: str) -> str:\n",
    "    \"\"\"\n",
    "    description:\n",
    "        Run IPFS upload process and return share link URL\n",
    "    params:\n",
    "        prefix:\n",
    "            (str) Local prefix file\n",
    "        asset:\n",
    "            (str) Filename\n",
    "    returns:\n",
    "        (str) share link url\n",
    "    \"\"\"\n",
    "    IPFS_PREFIX = \"https://ipfs.io/ipfs\"\n",
    "    qid = upload_to_ipfs(f\"{prefix}{asset}\".replace(\" \", \"\\ \"))\n",
    "    asset = asset.replace(\" \", \"-\")\n",
    "    return f\"{IPFS_PREFIX}/{qid}?filename={asset}\"\n",
    "\n",
    "\n",
    "\n",
    "class Attribute:\n",
    "    pass\n",
    "\n",
    "\n",
    "attribute = Attribute()\n",
    "for asset in os.listdir(prefix):\n",
    "    if asset.startswith(\".\") or asset == \"metadata.json\":\n",
    "        # Skip\n",
    "        continue\n",
    "    ipfs_share_link = set_ipfs_share_link(prefix, asset)\n",
    "    if is_an_image(asset):\n",
    "        setattr(attribute, \"image_url\", ipfs_share_link)\n",
    "    else:\n",
    "        setattr(attribute, \"external_url\", ipfs_share_link)\n",
    "    print(ipfs_share_link)"
   ]
  },
  {
   "cell_type": "markdown",
   "id": "05d6f499",
   "metadata": {},
   "source": [
    "# Set up metadata"
   ]
  },
  {
   "cell_type": "markdown",
   "id": "13c8d899",
   "metadata": {},
   "source": [
    "## Render metadata from template"
   ]
  },
  {
   "cell_type": "code",
   "execution_count": 12,
   "id": "d108e663",
   "metadata": {},
   "outputs": [],
   "source": [
    "metadata = {\n",
    "    \"description\": \"\"\"It was in 2015, I was an engineer intern.\n",
    "    \n",
    "I was assigned to code in Python for satellite signal processing.\n",
    "\n",
    "At that time, I had no experience with it, but I had completed C#, C and Matlab courses.\n",
    "\n",
    "It inspired me to transfer from electrical to software engineer career path.\n",
    "\n",
    "Now, I partially succeed in software engineering, machine learning and A.I implementation.\n",
    "\n",
    "This NFT determines where I started.\n",
    "\n",
    "Moreover, I minting this NFT with my Solidity code I created by myself.\n",
    "\n",
    "No, it's not my first Solidity project :D\n",
    "\n",
    "But it's my first Solidity project deployed in `production`.\n",
    "\n",
    "Which means this is the starting point for my smart contract development.\n",
    "\n",
    "Smart contract repository is located in https://github.com/batprem/pynft\n",
    "\"\"\", \n",
    "    \"external_url\": attribute.external_url, \n",
    "    \"image\": attribute.image_url, \n",
    "    \"name\": \"My first Python code\",\n",
    "    \"attributes\": [], \n",
    "}"
   ]
  },
  {
   "cell_type": "markdown",
   "id": "6fc08dbc",
   "metadata": {},
   "source": [
    "## Save metadata into JSON"
   ]
  },
  {
   "cell_type": "code",
   "execution_count": 13,
   "id": "715f8144",
   "metadata": {},
   "outputs": [],
   "source": [
    "import json\n",
    "\n",
    "\n",
    "metadata_filename = \"metadata.json\"\n",
    "\n",
    "with open(f\"assets/{metadata_filename}\", \"w\") as json_file:\n",
    "    json.dump(metadata, json_file)\n",
    "    \n",
    "metadata_share_link = set_ipfs_share_link(prefix, metadata_filename)"
   ]
  },
  {
   "cell_type": "markdown",
   "id": "84027136",
   "metadata": {},
   "source": [
    "# Assign to smart contract"
   ]
  },
  {
   "cell_type": "markdown",
   "id": "3cad561e",
   "metadata": {},
   "source": [
    "## Mint"
   ]
  },
  {
   "cell_type": "code",
   "execution_count": 14,
   "id": "0fbedbf1",
   "metadata": {},
   "outputs": [
    {
     "name": "stdout",
     "output_type": "stream",
     "text": [
      "Transaction sent: \u001b[0;1;34m0xce49cf20c4a9a7b70408ef8ccd9449ef6001c7a300f679af65d29cee4fe851f2\u001b[0;m\n",
      "  Gas price: \u001b[0;1;34m1.721482323\u001b[0;m gwei   Gas limit: \u001b[0;1;34m102072\u001b[0;m   Nonce: \u001b[0;1;34m30\u001b[0;m\n",
      "  PYNFT.createCollectable confirmed   Block: \u001b[0;1;34m10057863\u001b[0;m   Gas used: \u001b[0;1;34m92793\u001b[0;m (\u001b[0;1;34m90.91%\u001b[0;m)\n",
      "\n",
      "  PYNFT.createCollectable confirmed   Block: \u001b[0;1;34m10057863\u001b[0;m   Gas used: \u001b[0;1;34m92793\u001b[0;m (\u001b[0;1;34m90.91%\u001b[0;m)\n",
      "\n"
     ]
    }
   ],
   "source": [
    "PYNFT[-1].createCollectable({\"from\": account}).wait(1)"
   ]
  },
  {
   "cell_type": "markdown",
   "id": "40718ccf",
   "metadata": {},
   "source": [
    "## Set URI"
   ]
  },
  {
   "cell_type": "code",
   "execution_count": 16,
   "id": "7f78abc0",
   "metadata": {},
   "outputs": [
    {
     "name": "stdout",
     "output_type": "stream",
     "text": [
      "Transaction sent: \u001b[0;1;34m0x516f50b0b592ffbfe76dbc4a91595b16bc96c40be05491444d2eeb0c8a954321\u001b[0;m\n",
      "  Gas price: \u001b[0;1;34m1.653401301\u001b[0;m gwei   Gas limit: \u001b[0;1;34m38577\u001b[0;m   Nonce: \u001b[0;1;34m32\u001b[0;m\n",
      "  PYNFT.setBaseURI confirmed   Block: \u001b[0;1;34m10057867\u001b[0;m   Gas used: \u001b[0;1;34m35070\u001b[0;m (\u001b[0;1;34m90.91%\u001b[0;m)\n",
      "\n",
      "  PYNFT.setBaseURI confirmed   Block: \u001b[0;1;34m10057867\u001b[0;m   Gas used: \u001b[0;1;34m35070\u001b[0;m (\u001b[0;1;34m90.91%\u001b[0;m)\n",
      "\n"
     ]
    }
   ],
   "source": [
    "PYNFT[-1].setBaseURI(metadata_share_link, {\"from\": account}).wait(1)"
   ]
  },
  {
   "cell_type": "code",
   "execution_count": 17,
   "id": "f17e9bb1",
   "metadata": {},
   "outputs": [
    {
     "data": {
      "text/plain": [
       "'https://ipfs.io/ipfs/QmQBZ6VjMeDphzuTGQxxSst7565yjgwvvs8GHtwbayw6hU?filename=metadata.json'"
      ]
     },
     "execution_count": 17,
     "metadata": {},
     "output_type": "execute_result"
    }
   ],
   "source": [
    "PYNFT[-1].tokenURI(0)"
   ]
  },
  {
   "cell_type": "code",
   "execution_count": 18,
   "id": "adba781e",
   "metadata": {},
   "outputs": [
    {
     "data": {
      "text/plain": [
       "1"
      ]
     },
     "execution_count": 18,
     "metadata": {},
     "output_type": "execute_result"
    }
   ],
   "source": [
    "PYNFT[-1].tokenCounter()"
   ]
  },
  {
   "cell_type": "markdown",
   "id": "029cc5d7",
   "metadata": {},
   "source": [
    "## Reference\n",
    "\n",
    "* https://www.youtube.com/watch?v=M576WGiDBdQ&t=8373s"
   ]
  }
 ],
 "metadata": {
  "kernelspec": {
   "display_name": "Python 3 (ipykernel)",
   "language": "python",
   "name": "python3"
  },
  "language_info": {
   "codemirror_mode": {
    "name": "ipython",
    "version": 3
   },
   "file_extension": ".py",
   "mimetype": "text/x-python",
   "name": "python",
   "nbconvert_exporter": "python",
   "pygments_lexer": "ipython3",
   "version": "3.8.12"
  },
  "toc": {
   "base_numbering": 1,
   "nav_menu": {},
   "number_sections": true,
   "sideBar": true,
   "skip_h1_title": false,
   "title_cell": "Table of Contents",
   "title_sidebar": "Contents",
   "toc_cell": false,
   "toc_position": {},
   "toc_section_display": true,
   "toc_window_display": false
  },
  "varInspector": {
   "cols": {
    "lenName": 16,
    "lenType": 16,
    "lenVar": 40
   },
   "kernels_config": {
    "python": {
     "delete_cmd_postfix": "",
     "delete_cmd_prefix": "del ",
     "library": "var_list.py",
     "varRefreshCmd": "print(var_dic_list())"
    },
    "r": {
     "delete_cmd_postfix": ") ",
     "delete_cmd_prefix": "rm(",
     "library": "var_list.r",
     "varRefreshCmd": "cat(var_dic_list()) "
    }
   },
   "types_to_exclude": [
    "module",
    "function",
    "builtin_function_or_method",
    "instance",
    "_Feature"
   ],
   "window_display": false
  }
 },
 "nbformat": 4,
 "nbformat_minor": 5
}
