{
 "cells": [
  {
   "cell_type": "markdown",
   "id": "683da88b",
   "metadata": {},
   "source": [
    "# Requirements\n",
    "\n",
    "## Python"
   ]
  },
  {
   "cell_type": "code",
   "execution_count": 1,
   "id": "932fdb55",
   "metadata": {},
   "outputs": [
    {
     "name": "stdout",
     "output_type": "stream",
     "text": [
      "Python version 3.8.12\n"
     ]
    }
   ],
   "source": [
    "import sys\n",
    "\n",
    "\n",
    "python_version = (\n",
    "    f\"{sys.version_info.major}.\"\n",
    "    f\"{sys.version_info.minor}.\"\n",
    "    f\"{sys.version_info.micro}\"\n",
    ")\n",
    "print(f\"Python version {python_version}\")"
   ]
  },
  {
   "cell_type": "markdown",
   "id": "e1a0ee30",
   "metadata": {},
   "source": [
    "Choose any following methods to install dependcies\n",
    "* poetry (recommend) <br/><br/>\n",
    " `poetry install` <br/><br/>\n",
    "* pip <br/><br/>\n",
    "`pip install -r requirements.txt`\n",
    "\n",
    "## IPFS CLI\n",
    "\n",
    "Follow this URL https://docs.ipfs.io/install/command-line/#official-distributions"
   ]
  },
  {
   "cell_type": "markdown",
   "id": "c174723b",
   "metadata": {},
   "source": [
    "# Import modules"
   ]
  },
  {
   "cell_type": "code",
   "execution_count": 2,
   "id": "bc4aa873",
   "metadata": {},
   "outputs": [],
   "source": [
    "import brownie\n",
    "from brownie import accounts, project, config, network\n",
    "\n",
    "# Compile smart contracts\n",
    "p = project.load('.', name=\"pynft\")\n",
    "p.load_config()"
   ]
  },
  {
   "cell_type": "markdown",
   "id": "96f6da12",
   "metadata": {},
   "source": [
    "# Connect to chain"
   ]
  },
  {
   "cell_type": "code",
   "execution_count": 3,
   "id": "8df68063",
   "metadata": {},
   "outputs": [
    {
     "name": "stdout",
     "output_type": "stream",
     "text": [
      "Available networks\n",
      "Brownie v1.17.0 - Python development framework for Ethereum\n",
      "\n",
      "The following networks are declared:\n",
      "\n",
      "Ethereum\n",
      "\u001b[0;1;30m  ├─\u001b[0;mMainnet (Infura): \u001b[0;32mmainnet\u001b[0;m\n",
      "\u001b[0;1;30m  ├─\u001b[0;mRopsten (Infura): \u001b[0;32mropsten\u001b[0;m\n",
      "\u001b[0;1;30m  ├─\u001b[0;mRinkeby (Infura): \u001b[0;32mrinkeby\u001b[0;m\n",
      "\u001b[0;1;30m  ├─\u001b[0;mGoerli (Infura): \u001b[0;32mgoerli\u001b[0;m\n",
      "\u001b[0;1;30m  ├─\u001b[0;mKovan (Infura): \u001b[0;32mkovan\u001b[0;m\n",
      "\u001b[0;1;30m  ├─\u001b[0;mmainnet-fork-2: \u001b[0;32mmainnet-fork-2\u001b[0;m\n",
      "\u001b[0;1;30m  ├─\u001b[0;mmainnet-fork-3: \u001b[0;32mmainnet-fork-3\u001b[0;m\n",
      "\u001b[0;1;30m  ├─\u001b[0;mmainnet-fork-4: \u001b[0;32mmainnet-fork-4\u001b[0;m\n",
      "\u001b[0;1;30m  └─\u001b[0;mmainnet-fork-5: \u001b[0;32mmainnet-fork-5\u001b[0;m\n",
      "\n",
      "Ethereum Classic\n",
      "\u001b[0;1;30m  ├─\u001b[0;mMainnet: \u001b[0;32metc\u001b[0;m\n",
      "\u001b[0;1;30m  └─\u001b[0;mKotti: \u001b[0;32mkotti\u001b[0;m\n",
      "\n",
      "Arbitrum\n",
      "\u001b[0;1;30m  └─\u001b[0;mMainnet: \u001b[0;32marbitrum-main\u001b[0;m\n",
      "\n",
      "Binance Smart Chain\n",
      "\u001b[0;1;30m  ├─\u001b[0;mTestnet: \u001b[0;32mbsc-test\u001b[0;m\n",
      "\u001b[0;1;30m  └─\u001b[0;mMainnet: \u001b[0;32mbsc-main\u001b[0;m\n",
      "\n",
      "Fantom Opera\n",
      "\u001b[0;1;30m  ├─\u001b[0;mTestnet: \u001b[0;32mftm-test\u001b[0;m\n",
      "\u001b[0;1;30m  └─\u001b[0;mMainnet: \u001b[0;32mftm-main\u001b[0;m\n",
      "\n",
      "Harmony\n",
      "\u001b[0;1;30m  └─\u001b[0;mMainnet (Shard 0): \u001b[0;32mharmony-main\u001b[0;m\n",
      "\n",
      "Polygon\n",
      "\u001b[0;1;30m  ├─\u001b[0;mMainnet (Infura): \u001b[0;32mpolygon-main\u001b[0;m\n",
      "\u001b[0;1;30m  └─\u001b[0;mMumbai Testnet (Infura): \u001b[0;32mpolygon-test\u001b[0;m\n",
      "\n",
      "XDai\n",
      "\u001b[0;1;30m  ├─\u001b[0;mMainnet: \u001b[0;32mxdai-main\u001b[0;m\n",
      "\u001b[0;1;30m  └─\u001b[0;mTestnet: \u001b[0;32mxdai-test\u001b[0;m\n",
      "\n",
      "Eherium\n",
      "\u001b[0;1;30m  └─\u001b[0;mganache-local: \u001b[0;32mganache-local\u001b[0;m\n",
      "\n",
      "Etherium\n",
      "\u001b[0;1;30m  └─\u001b[0;mganache-local-2: \u001b[0;32mganache-local-2\u001b[0;m\n",
      "\n",
      "cronos\n",
      "\u001b[0;1;30m  └─\u001b[0;mcronos-testnet: \u001b[0;32mcronos-testnet\u001b[0;m\n",
      "\n",
      "Development\n",
      "\u001b[0;1;30m  ├─\u001b[0;mGanache-CLI: \u001b[0;32mdevelopment\u001b[0;m\n",
      "\u001b[0;1;30m  ├─\u001b[0;mGeth Dev: \u001b[0;32mgeth-dev\u001b[0;m\n",
      "\u001b[0;1;30m  ├─\u001b[0;mHardhat: \u001b[0;32mhardhat\u001b[0;m\n",
      "\u001b[0;1;30m  ├─\u001b[0;mHardhat (Mainnet Fork): \u001b[0;32mhardhat-fork\u001b[0;m\n",
      "\u001b[0;1;30m  ├─\u001b[0;mGanache-CLI (Mainnet Fork): \u001b[0;32mmainnet-fork\u001b[0;m\n",
      "\u001b[0;1;30m  ├─\u001b[0;mGanache-CLI (BSC-Mainnet Fork): \u001b[0;32mbsc-main-fork\u001b[0;m\n",
      "\u001b[0;1;30m  ├─\u001b[0;mGanache-CLI (FTM-Mainnet Fork): \u001b[0;32mftm-main-fork\u001b[0;m\n",
      "\u001b[0;1;30m  ├─\u001b[0;mGanache-CLI (Polygon-Mainnet Fork): \u001b[0;32mpolygon-main-fork\u001b[0;m\n",
      "\u001b[0;1;30m  ├─\u001b[0;mGanache-CLI (XDai-Mainnet Fork): \u001b[0;32mxdai-main-fork\u001b[0;m\n",
      "\u001b[0;1;30m  ├─\u001b[0;mlocal: \u001b[0;32mlocal\u001b[0;m\n",
      "\u001b[0;1;30m  ├─\u001b[0;mmainnet-fork-dev: \u001b[0;32mmainnet-fork-dev\u001b[0;m\n",
      "\u001b[0;1;30m  └─\u001b[0;mcronos-mainnet-fork: \u001b[0;32mcronos-mainnet-fork\u001b[0;m\n",
      "\n"
     ]
    }
   ],
   "source": [
    "import os\n",
    "\n",
    "print(\"Available networks\")\n",
    "print(os.popen(\"brownie networks list\").read())"
   ]
  },
  {
   "cell_type": "markdown",
   "id": "f9f294ca",
   "metadata": {},
   "source": [
    "## Connect"
   ]
  },
  {
   "cell_type": "code",
   "execution_count": 4,
   "id": "5f83d52e",
   "metadata": {},
   "outputs": [],
   "source": [
    "NETWORK = \"mainnet\"\n",
    "\n",
    "network.connect(NETWORK)"
   ]
  },
  {
   "cell_type": "markdown",
   "id": "33499f60",
   "metadata": {},
   "source": [
    "# Account"
   ]
  },
  {
   "cell_type": "code",
   "execution_count": 5,
   "id": "7791f14b",
   "metadata": {},
   "outputs": [
    {
     "name": "stdout",
     "output_type": "stream",
     "text": [
      "Brownie v1.17.0 - Python development framework for Ethereum\n",
      "\n",
      "Found 4 accounts:\n",
      " \u001b[0;1;30m├─\u001b[0;1;34meth-main\u001b[0;m: \u001b[0;1;35m0xf6EfbD8142A18E741360b41301eDFdbD2719D03C\u001b[0;m\n",
      " \u001b[0;1;30m├─\u001b[0;1;34mprem\u001b[0;m: \u001b[0;1;35m0xedEa45C169753E1af9bf1cb1c374Ca83EBd0d6BE\u001b[0;m\n",
      " \u001b[0;1;30m├─\u001b[0;1;34mtest\u001b[0;m: \u001b[0;1;35m0xA3c11aDE2244474EB2F8167921216AB6541F9bA8\u001b[0;m\n",
      " \u001b[0;1;30m└─\u001b[0;1;34mtest_2\u001b[0;m: \u001b[0;1;35m0xA3c11aDE2244474EB2F8167921216AB6541F9bA8\u001b[0;m\n"
     ]
    }
   ],
   "source": [
    "!brownie accounts list"
   ]
  },
  {
   "cell_type": "code",
   "execution_count": 6,
   "id": "f89d7060",
   "metadata": {},
   "outputs": [
    {
     "name": "stdout",
     "output_type": "stream",
     "text": [
      "Enter password for \"eth-main\": ········\n"
     ]
    }
   ],
   "source": [
    "if NETWORK == \"mainnet\" and False:\n",
    "    from scripts.helpful_script import get_account\n",
    "\n",
    "    account = get_account()\n",
    "\n",
    "else:\n",
    "    from brownie import accounts\n",
    "\n",
    "    accounts.load(\"eth-main\") # Main net\n",
    "    account = accounts[0]\n"
   ]
  },
  {
   "cell_type": "code",
   "execution_count": 7,
   "id": "01f25d0a",
   "metadata": {},
   "outputs": [
    {
     "name": "stdout",
     "output_type": "stream",
     "text": [
      "0xf6EfbD8142A18E741360b41301eDFdbD2719D03C\n"
     ]
    }
   ],
   "source": [
    "print(account)"
   ]
  },
  {
   "cell_type": "markdown",
   "id": "063ad834",
   "metadata": {},
   "source": [
    "# Dump variables"
   ]
  },
  {
   "cell_type": "code",
   "execution_count": 8,
   "id": "a188f2d7",
   "metadata": {},
   "outputs": [
    {
     "name": "stdout",
     "output_type": "stream",
     "text": [
      "_path\n",
      "_envvars\n",
      "_structure\n",
      "_build_path\n",
      "_name\n",
      "_active\n",
      "_sources\n",
      "_build\n",
      "_compiler_config\n",
      "interface\n",
      "_containers\n",
      "PYNFT\n",
      "ERC721\n",
      "Strings\n",
      "__all__\n",
      "_namespaces\n"
     ]
    }
   ],
   "source": [
    "for key, value in p.__dict__.items():\n",
    "    print(key)\n",
    "    brownie.__dict__[key] = p.__dict__[key]"
   ]
  },
  {
   "cell_type": "markdown",
   "id": "1db5d20e",
   "metadata": {},
   "source": [
    "# Deploy contracts"
   ]
  },
  {
   "cell_type": "code",
   "execution_count": 19,
   "id": "e8300714",
   "metadata": {},
   "outputs": [
    {
     "data": {
      "text/plain": [
       "<brownie.network.gas.strategies.LinearScalingStrategy at 0x7fb03173d730>"
      ]
     },
     "execution_count": 19,
     "metadata": {},
     "output_type": "execute_result"
    }
   ],
   "source": [
    "from brownie.network import gas_price\n",
    "from brownie.network.gas.strategies import LinearScalingStrategy\n",
    "gas_strategy = LinearScalingStrategy(\"60 gwei\", \"75 gwei\", 1.1)\n",
    "\n",
    "\n",
    "gas_price(gas_strategy)"
   ]
  },
  {
   "cell_type": "code",
   "execution_count": 21,
   "id": "100692c5",
   "metadata": {},
   "outputs": [
    {
     "name": "stdout",
     "output_type": "stream",
     "text": [
      "Transaction sent: \u001b[0;1;34m0xa5c9b02fe2dfee312bb24fee8ae1bc6edd31339ce7db97a11d40f888a5d89b16\u001b[0;m\n",
      "  Gas price: \u001b[0;1;34m60.0\u001b[0;m gwei   Gas limit: \u001b[0;1;34m1419476\u001b[0;m   Nonce: \u001b[0;1;34m11\u001b[0;m\n",
      "Transaction sent: \u001b[0;1;34m0x2e38964cbe589ae91b5105b87f77e0b44207942a92127cb09ca155649c7f18da\u001b[0;m\n",
      "  Gas price: \u001b[0;1;34m66.0\u001b[0;m gwei   Gas limit: \u001b[0;1;34m1419476\u001b[0;m   Nonce: \u001b[0;1;34m11\u001b[0;m\n",
      "Transaction sent: \u001b[0;1;34m0xd9e803525240d1eb6e4d3e4813a84185451f930e47df4a8c93fdb608cf3950e1\u001b[0;m\n",
      "  Gas price: \u001b[0;1;34m72.6\u001b[0;m gwei   Gas limit: \u001b[0;1;34m1419476\u001b[0;m   Nonce: \u001b[0;1;34m11\u001b[0;m\n",
      "  Waiting for confirmation... /\r"
     ]
    }
   ],
   "source": [
    "from brownie import PYNFT\n",
    "\n",
    "\n",
    "pynft = PYNFT.deploy({\n",
    "    \"from\": account,\n",
    "    \"gas_price\": gas_strategy\n",
    "})"
   ]
  },
  {
   "cell_type": "markdown",
   "id": "41eaaa8d",
   "metadata": {},
   "source": [
    "# Upload file to IPFS"
   ]
  },
  {
   "cell_type": "markdown",
   "id": "44887b5d",
   "metadata": {},
   "source": [
    "## Assets"
   ]
  },
  {
   "cell_type": "code",
   "execution_count": 22,
   "id": "acf5e73f",
   "metadata": {},
   "outputs": [
    {
     "name": "stdout",
     "output_type": "stream",
     "text": [
      "https://ipfs.io/ipfs/Qmda8x41dArU36LKveHzSN3NPJjWxFgyeNNLM8uUMqtMNr?filename=my-first-python-code.png\n",
      "https://ipfs.io/ipfs/QmUoGY6GbvzSQi2gP7YHtVMRocNW1Xs16ZUHxWcTgWHwJb?filename=fruit-list.py\n"
     ]
    }
   ],
   "source": [
    "prefix = \"assets/\"\n",
    "\n",
    "\n",
    "def upload_to_ipfs(filepath: str) -> str:\n",
    "    return os.popen(f\"ipfs add -q {filepath}\").read().strip()\n",
    "\n",
    "def is_an_image(filename: str):\n",
    "    \"\"\"\n",
    "    Description:\n",
    "        Check if a file is an image\n",
    "    paramgs:\n",
    "        filename:\n",
    "            (str) filename, should be with its extension\n",
    "    returns:\n",
    "        (str) qid of ipfs\n",
    "    \"\"\"\n",
    "    for extention in [\".png\", \"jpg\"]:\n",
    "        if filename.endswith(extention):\n",
    "            return True\n",
    "    return False\n",
    "\n",
    "def set_ipfs_share_link(prefix: str, asset: str) -> str:\n",
    "    \"\"\"\n",
    "    description:\n",
    "        Run IPFS upload process and return share link URL\n",
    "    params:\n",
    "        prefix:\n",
    "            (str) Local prefix file\n",
    "        asset:\n",
    "            (str) Filename\n",
    "    returns:\n",
    "        (str) share link url\n",
    "    \"\"\"\n",
    "    IPFS_PREFIX = \"https://ipfs.io/ipfs\"\n",
    "    qid = upload_to_ipfs(f\"{prefix}{asset}\".replace(\" \", \"\\ \"))\n",
    "    asset = asset.replace(\" \", \"-\")\n",
    "    return f\"{IPFS_PREFIX}/{qid}?filename={asset}\"\n",
    "\n",
    "\n",
    "\n",
    "class Attribute:\n",
    "    pass\n",
    "\n",
    "\n",
    "attribute = Attribute()\n",
    "for asset in os.listdir(prefix):\n",
    "    if asset.startswith(\".\") or asset == \"metadata.json\":\n",
    "        # Skip\n",
    "        continue\n",
    "    ipfs_share_link = set_ipfs_share_link(prefix, asset)\n",
    "    if is_an_image(asset):\n",
    "        setattr(attribute, \"image_url\", ipfs_share_link)\n",
    "    else:\n",
    "        setattr(attribute, \"external_url\", ipfs_share_link)\n",
    "    print(ipfs_share_link)"
   ]
  },
  {
   "cell_type": "markdown",
   "id": "05d6f499",
   "metadata": {},
   "source": [
    "# Set up metadata"
   ]
  },
  {
   "cell_type": "markdown",
   "id": "13c8d899",
   "metadata": {},
   "source": [
    "## Render metadata from template"
   ]
  },
  {
   "cell_type": "code",
   "execution_count": 23,
   "id": "d108e663",
   "metadata": {},
   "outputs": [],
   "source": [
    "metadata = {\n",
    "    \"description\": \"\"\"It was in 2015, I was an engineer intern.\n",
    "    \n",
    "I was assigned to code in Python for satellite signal processing.\n",
    "\n",
    "At that time, I had no experience with it, but I had completed C#, C and Matlab courses.\n",
    "\n",
    "It inspired me to transfer from electrical to software engineer career path.\n",
    "\n",
    "Now, I partially succeed in software engineering, machine learning and A.I implementation.\n",
    "\n",
    "This NFT determines where I started.\n",
    "\n",
    "Moreover, I minting this NFT with my Solidity code I created by myself.\n",
    "\n",
    "No, it's not my first Solidity project :D\n",
    "\n",
    "But it's my first Solidity project deployed in `production`.\n",
    "\n",
    "Which means this is the starting point for my smart contract development.\n",
    "\n",
    "Smart contract repository is located in https://github.com/batprem/pynft\n",
    "\"\"\", \n",
    "    \"external_url\": attribute.external_url, \n",
    "    \"image\": attribute.image_url, \n",
    "    \"name\": \"My first Python code\",\n",
    "    \"attributes\": [], \n",
    "}"
   ]
  },
  {
   "cell_type": "markdown",
   "id": "6fc08dbc",
   "metadata": {},
   "source": [
    "## Save metadata into JSON"
   ]
  },
  {
   "cell_type": "code",
   "execution_count": 24,
   "id": "715f8144",
   "metadata": {},
   "outputs": [],
   "source": [
    "import json\n",
    "\n",
    "\n",
    "metadata_filename = \"metadata.json\"\n",
    "\n",
    "with open(f\"assets/{metadata_filename}\", \"w\") as json_file:\n",
    "    json.dump(metadata, json_file)\n",
    "    \n",
    "metadata_share_link = set_ipfs_share_link(prefix, metadata_filename)"
   ]
  },
  {
   "cell_type": "markdown",
   "id": "84027136",
   "metadata": {},
   "source": [
    "# Assign to smart contract"
   ]
  },
  {
   "cell_type": "markdown",
   "id": "3cad561e",
   "metadata": {},
   "source": [
    "## Mint"
   ]
  },
  {
   "cell_type": "code",
   "execution_count": 25,
   "id": "0fbedbf1",
   "metadata": {},
   "outputs": [
    {
     "name": "stdout",
     "output_type": "stream",
     "text": [
      "Transaction sent: \u001b[0;1;34m0x2b0ebb107a54e1f4dd8cba236ff325f935a3b8586226002cee6dd7363ba50e7e\u001b[0;m\n",
      "  Gas price: \u001b[0;1;34m60.0\u001b[0;m gwei   Gas limit: \u001b[0;1;34m100000\u001b[0;m   Nonce: \u001b[0;1;34m12\u001b[0;m\n",
      "Transaction sent: \u001b[0;1;34m0x3687db217fd7ba73f5666086b8d193e8afd05ea2441f025ca324f92081b29a3a\u001b[0;m\n",
      "  Gas price: \u001b[0;1;34m66.0\u001b[0;m gwei   Gas limit: \u001b[0;1;34m100000\u001b[0;m   Nonce: \u001b[0;1;34m12\u001b[0;m\n",
      "Transaction sent: \u001b[0;1;34m0xfef11517430a4dec600cde1c9bf9a6d1c1912fab6bdc3800fad85aec3eca93fc\u001b[0;m\n",
      "  Gas price: \u001b[0;1;34m72.6\u001b[0;m gwei   Gas limit: \u001b[0;1;34m100000\u001b[0;m   Nonce: \u001b[0;1;34m12\u001b[0;m\n",
      "  Waiting for confirmation... -\r"
     ]
    }
   ],
   "source": [
    "PYNFT[-1].createCollectable({\"from\": account, \"gas_limit\": 100000}).wait(1)"
   ]
  },
  {
   "cell_type": "markdown",
   "id": "40718ccf",
   "metadata": {},
   "source": [
    "## Set URI"
   ]
  },
  {
   "cell_type": "code",
   "execution_count": 29,
   "id": "7f78abc0",
   "metadata": {},
   "outputs": [
    {
     "name": "stdout",
     "output_type": "stream",
     "text": [
      "Transaction sent: \u001b[0;1;34m0x944d8be4c22c3a0fc2c33403d5909f944f2dd070585571c360f2baab956484a5\u001b[0;m\n",
      "  Gas price: \u001b[0;1;34m60.0\u001b[0;m gwei   Gas limit: \u001b[0;1;34m120000\u001b[0;m   Nonce: \u001b[0;1;34m13\u001b[0;m\n",
      "Transaction sent: \u001b[0;1;34m0x233bdd1900ea80dc6d245ee5f7be85bcbb1fa42f4ff6f328eafe1770dfc8f6ec\u001b[0;m\n",
      "  Gas price: \u001b[0;1;34m66.0\u001b[0;m gwei   Gas limit: \u001b[0;1;34m120000\u001b[0;m   Nonce: \u001b[0;1;34m13\u001b[0;m\n",
      "This transaction already has 2 confirmations.\n"
     ]
    }
   ],
   "source": [
    "PYNFT[-1].setBaseURI(metadata_share_link, {\"from\": account, \"gas_limit\": 120000}).wait(1)"
   ]
  },
  {
   "cell_type": "code",
   "execution_count": 30,
   "id": "f17e9bb1",
   "metadata": {},
   "outputs": [
    {
     "data": {
      "text/plain": [
       "'https://ipfs.io/ipfs/QmQBZ6VjMeDphzuTGQxxSst7565yjgwvvs8GHtwbayw6hU?filename=metadata.json'"
      ]
     },
     "execution_count": 30,
     "metadata": {},
     "output_type": "execute_result"
    }
   ],
   "source": [
    "PYNFT[-1].tokenURI(0)"
   ]
  },
  {
   "cell_type": "code",
   "execution_count": 31,
   "id": "adba781e",
   "metadata": {},
   "outputs": [
    {
     "data": {
      "text/plain": [
       "1"
      ]
     },
     "execution_count": 31,
     "metadata": {},
     "output_type": "execute_result"
    }
   ],
   "source": [
    "PYNFT[-1].tokenCounter()"
   ]
  },
  {
   "cell_type": "markdown",
   "id": "d5c873ab",
   "metadata": {},
   "source": [
    "# Register to Opensea"
   ]
  },
  {
   "cell_type": "code",
   "execution_count": 40,
   "id": "74850659",
   "metadata": {},
   "outputs": [],
   "source": [
    "from brownie import Contract\n",
    "import json\n",
    "\n",
    "\n",
    "with open(\"utils/open_sea_abi.json\", \"r\") as open_sea_file:\n",
    "    open_sea_abi = json.load(open_sea_file)\n",
    "\n",
    "\n",
    "if NETWORK == \"mainnet\":\n",
    "    open_sea_address = \"0xa5409ec958C83C3f309868babACA7c86DCB077c1\"\n",
    "else:\n",
    "    raise NotImplementedError(\"We don't have contract address for this chain yet\")\n",
    "    \n",
    "OpenSea = Contract.from_abi(name=\"OpenSea\" , address=open_sea_address, abi=open_sea_abi)"
   ]
  },
  {
   "cell_type": "code",
   "execution_count": 75,
   "id": "a16e3ac4",
   "metadata": {},
   "outputs": [
    {
     "name": "stdout",
     "output_type": "stream",
     "text": [
      "Transaction sent: \u001b[0;1;34m0xae7a0041ba38ae9fc24c97f87ac0efb8e00e7f45f08b88e4fed6fa7ab37806b1\u001b[0;m\n",
      "  Gas price: \u001b[0;1;34m60.0\u001b[0;m gwei   Gas limit: \u001b[0;1;34m500000\u001b[0;m   Nonce: \u001b[0;1;34m14\u001b[0;m\n",
      "Transaction sent: \u001b[0;1;34m0x805ff82ed6ddaa950078ad42b62d077ace37ffc984e8078367dc7fb1eeefb289\u001b[0;m\n",
      "  Gas price: \u001b[0;1;34m66.0\u001b[0;m gwei   Gas limit: \u001b[0;1;34m500000\u001b[0;m   Nonce: \u001b[0;1;34m14\u001b[0;m\n",
      "Transaction sent: \u001b[0;1;34m0x78488589de5dce5b4df59b471004f2324c01388cdcef00db56b18583d1a7537d\u001b[0;m\n",
      "  Gas price: \u001b[0;1;34m72.6\u001b[0;m gwei   Gas limit: \u001b[0;1;34m500000\u001b[0;m   Nonce: \u001b[0;1;34m14\u001b[0;m\n",
      "  Waiting for confirmation... |\r"
     ]
    },
    {
     "name": "stderr",
     "output_type": "stream",
     "text": [
      "Bad pipe message: %s [b'nection: Upgrade\\r\\nSec-WebSocket-Key: NXiTwOdunv0X6KLCjLo4Hg==\\r\\nSec-WebSocket-Version: 13\\r\\nUpgrade: websocket\\r\\n']\n"
     ]
    },
    {
     "name": "stdout",
     "output_type": "stream",
     "text": [
      "  Waiting for confirmation... /\r"
     ]
    },
    {
     "ename": "KeyboardInterrupt",
     "evalue": "",
     "output_type": "error",
     "traceback": [
      "\u001b[0;31m---------------------------------------------------------------------------\u001b[0m",
      "\u001b[0;31mKeyboardInterrupt\u001b[0m                         Traceback (most recent call last)",
      "Input \u001b[0;32mIn [75]\u001b[0m, in \u001b[0;36m<module>\u001b[0;34m\u001b[0m\n\u001b[1;32m      1\u001b[0m gas_strategy \u001b[38;5;241m=\u001b[39m LinearScalingStrategy(\u001b[38;5;124m\"\u001b[39m\u001b[38;5;124m60 gwei\u001b[39m\u001b[38;5;124m\"\u001b[39m, \u001b[38;5;124m\"\u001b[39m\u001b[38;5;124m75 gwei\u001b[39m\u001b[38;5;124m\"\u001b[39m, \u001b[38;5;241m1.1\u001b[39m, time_duration\u001b[38;5;241m=\u001b[39m\u001b[38;5;241m60\u001b[39m)\n\u001b[1;32m      4\u001b[0m gas_price(gas_strategy)\n\u001b[0;32m----> 7\u001b[0m \u001b[43mOpenSea\u001b[49m\u001b[38;5;241;43m.\u001b[39;49m\u001b[43mregisterProxy\u001b[49m\u001b[43m(\u001b[49m\n\u001b[1;32m      8\u001b[0m \u001b[43m    \u001b[49m\u001b[43m{\u001b[49m\u001b[38;5;124;43m\"\u001b[39;49m\u001b[38;5;124;43mfrom\u001b[39;49m\u001b[38;5;124;43m\"\u001b[39;49m\u001b[43m:\u001b[49m\u001b[43m \u001b[49m\u001b[43maccount\u001b[49m\u001b[43m,\u001b[49m\u001b[43m \u001b[49m\u001b[38;5;124;43m\"\u001b[39;49m\u001b[38;5;124;43mgas_price\u001b[39;49m\u001b[38;5;124;43m\"\u001b[39;49m\u001b[43m:\u001b[49m\u001b[43m \u001b[49m\u001b[43mgas_strategy\u001b[49m\u001b[43m,\u001b[49m\u001b[43m \u001b[49m\u001b[38;5;124;43m\"\u001b[39;49m\u001b[38;5;124;43mgas_limit\u001b[39;49m\u001b[38;5;124;43m\"\u001b[39;49m\u001b[43m:\u001b[49m\u001b[43m \u001b[49m\u001b[38;5;241;43m500000\u001b[39;49m\u001b[43m}\u001b[49m\n\u001b[1;32m      9\u001b[0m \u001b[43m)\u001b[49m\n",
      "File \u001b[0;32m~/miniconda3/envs/nft/lib/python3.8/site-packages/brownie/network/contract.py:1622\u001b[0m, in \u001b[0;36mContractTx.__call__\u001b[0;34m(self, *args)\u001b[0m\n\u001b[1;32m   1606\u001b[0m \u001b[38;5;28;01mdef\u001b[39;00m \u001b[38;5;21m__call__\u001b[39m(\u001b[38;5;28mself\u001b[39m, \u001b[38;5;241m*\u001b[39margs: Tuple) \u001b[38;5;241m-\u001b[39m\u001b[38;5;241m>\u001b[39m TransactionReceiptType:\n\u001b[1;32m   1607\u001b[0m     \u001b[38;5;124;03m\"\"\"\u001b[39;00m\n\u001b[1;32m   1608\u001b[0m \u001b[38;5;124;03m    Broadcast a transaction that calls this contract method.\u001b[39;00m\n\u001b[1;32m   1609\u001b[0m \n\u001b[0;32m   (...)\u001b[0m\n\u001b[1;32m   1619\u001b[0m \u001b[38;5;124;03m        Object representing the broadcasted transaction.\u001b[39;00m\n\u001b[1;32m   1620\u001b[0m \u001b[38;5;124;03m    \"\"\"\u001b[39;00m\n\u001b[0;32m-> 1622\u001b[0m     \u001b[38;5;28;01mreturn\u001b[39;00m \u001b[38;5;28;43mself\u001b[39;49m\u001b[38;5;241;43m.\u001b[39;49m\u001b[43mtransact\u001b[49m\u001b[43m(\u001b[49m\u001b[38;5;241;43m*\u001b[39;49m\u001b[43margs\u001b[49m\u001b[43m)\u001b[49m\n",
      "File \u001b[0;32m~/miniconda3/envs/nft/lib/python3.8/site-packages/brownie/network/contract.py:1495\u001b[0m, in \u001b[0;36m_ContractMethod.transact\u001b[0;34m(self, *args)\u001b[0m\n\u001b[1;32m   1489\u001b[0m \u001b[38;5;28;01mif\u001b[39;00m \u001b[38;5;129;01mnot\u001b[39;00m tx[\u001b[38;5;124m\"\u001b[39m\u001b[38;5;124mfrom\u001b[39m\u001b[38;5;124m\"\u001b[39m]:\n\u001b[1;32m   1490\u001b[0m     \u001b[38;5;28;01mraise\u001b[39;00m \u001b[38;5;167;01mAttributeError\u001b[39;00m(\n\u001b[1;32m   1491\u001b[0m         \u001b[38;5;124m\"\u001b[39m\u001b[38;5;124mFinal argument must be a dict of transaction parameters that \u001b[39m\u001b[38;5;124m\"\u001b[39m\n\u001b[1;32m   1492\u001b[0m         \u001b[38;5;124m\"\u001b[39m\u001b[38;5;124mincludes a `from` field specifying the sender of the transaction\u001b[39m\u001b[38;5;124m\"\u001b[39m\n\u001b[1;32m   1493\u001b[0m     )\n\u001b[0;32m-> 1495\u001b[0m \u001b[38;5;28;01mreturn\u001b[39;00m \u001b[43mtx\u001b[49m\u001b[43m[\u001b[49m\u001b[38;5;124;43m\"\u001b[39;49m\u001b[38;5;124;43mfrom\u001b[39;49m\u001b[38;5;124;43m\"\u001b[39;49m\u001b[43m]\u001b[49m\u001b[38;5;241;43m.\u001b[39;49m\u001b[43mtransfer\u001b[49m\u001b[43m(\u001b[49m\n\u001b[1;32m   1496\u001b[0m \u001b[43m    \u001b[49m\u001b[38;5;28;43mself\u001b[39;49m\u001b[38;5;241;43m.\u001b[39;49m\u001b[43m_address\u001b[49m\u001b[43m,\u001b[49m\n\u001b[1;32m   1497\u001b[0m \u001b[43m    \u001b[49m\u001b[43mtx\u001b[49m\u001b[43m[\u001b[49m\u001b[38;5;124;43m\"\u001b[39;49m\u001b[38;5;124;43mvalue\u001b[39;49m\u001b[38;5;124;43m\"\u001b[39;49m\u001b[43m]\u001b[49m\u001b[43m,\u001b[49m\n\u001b[1;32m   1498\u001b[0m \u001b[43m    \u001b[49m\u001b[43mgas_limit\u001b[49m\u001b[38;5;241;43m=\u001b[39;49m\u001b[43mtx\u001b[49m\u001b[43m[\u001b[49m\u001b[38;5;124;43m\"\u001b[39;49m\u001b[38;5;124;43mgas\u001b[39;49m\u001b[38;5;124;43m\"\u001b[39;49m\u001b[43m]\u001b[49m\u001b[43m,\u001b[49m\n\u001b[1;32m   1499\u001b[0m \u001b[43m    \u001b[49m\u001b[43mgas_buffer\u001b[49m\u001b[38;5;241;43m=\u001b[39;49m\u001b[43mtx\u001b[49m\u001b[38;5;241;43m.\u001b[39;49m\u001b[43mget\u001b[49m\u001b[43m(\u001b[49m\u001b[38;5;124;43m\"\u001b[39;49m\u001b[38;5;124;43mgas_buffer\u001b[39;49m\u001b[38;5;124;43m\"\u001b[39;49m\u001b[43m)\u001b[49m\u001b[43m,\u001b[49m\n\u001b[1;32m   1500\u001b[0m \u001b[43m    \u001b[49m\u001b[43mgas_price\u001b[49m\u001b[38;5;241;43m=\u001b[39;49m\u001b[43mtx\u001b[49m\u001b[38;5;241;43m.\u001b[39;49m\u001b[43mget\u001b[49m\u001b[43m(\u001b[49m\u001b[38;5;124;43m\"\u001b[39;49m\u001b[38;5;124;43mgas_price\u001b[39;49m\u001b[38;5;124;43m\"\u001b[39;49m\u001b[43m)\u001b[49m\u001b[43m,\u001b[49m\n\u001b[1;32m   1501\u001b[0m \u001b[43m    \u001b[49m\u001b[43mmax_fee\u001b[49m\u001b[38;5;241;43m=\u001b[39;49m\u001b[43mtx\u001b[49m\u001b[38;5;241;43m.\u001b[39;49m\u001b[43mget\u001b[49m\u001b[43m(\u001b[49m\u001b[38;5;124;43m\"\u001b[39;49m\u001b[38;5;124;43mmax_fee\u001b[39;49m\u001b[38;5;124;43m\"\u001b[39;49m\u001b[43m)\u001b[49m\u001b[43m,\u001b[49m\n\u001b[1;32m   1502\u001b[0m \u001b[43m    \u001b[49m\u001b[43mpriority_fee\u001b[49m\u001b[38;5;241;43m=\u001b[39;49m\u001b[43mtx\u001b[49m\u001b[38;5;241;43m.\u001b[39;49m\u001b[43mget\u001b[49m\u001b[43m(\u001b[49m\u001b[38;5;124;43m\"\u001b[39;49m\u001b[38;5;124;43mpriority_fee\u001b[39;49m\u001b[38;5;124;43m\"\u001b[39;49m\u001b[43m)\u001b[49m\u001b[43m,\u001b[49m\n\u001b[1;32m   1503\u001b[0m \u001b[43m    \u001b[49m\u001b[43mnonce\u001b[49m\u001b[38;5;241;43m=\u001b[39;49m\u001b[43mtx\u001b[49m\u001b[43m[\u001b[49m\u001b[38;5;124;43m\"\u001b[39;49m\u001b[38;5;124;43mnonce\u001b[39;49m\u001b[38;5;124;43m\"\u001b[39;49m\u001b[43m]\u001b[49m\u001b[43m,\u001b[49m\n\u001b[1;32m   1504\u001b[0m \u001b[43m    \u001b[49m\u001b[43mrequired_confs\u001b[49m\u001b[38;5;241;43m=\u001b[39;49m\u001b[43mtx\u001b[49m\u001b[43m[\u001b[49m\u001b[38;5;124;43m\"\u001b[39;49m\u001b[38;5;124;43mrequired_confs\u001b[39;49m\u001b[38;5;124;43m\"\u001b[39;49m\u001b[43m]\u001b[49m\u001b[43m,\u001b[49m\n\u001b[1;32m   1505\u001b[0m \u001b[43m    \u001b[49m\u001b[43mdata\u001b[49m\u001b[38;5;241;43m=\u001b[39;49m\u001b[38;5;28;43mself\u001b[39;49m\u001b[38;5;241;43m.\u001b[39;49m\u001b[43mencode_input\u001b[49m\u001b[43m(\u001b[49m\u001b[38;5;241;43m*\u001b[39;49m\u001b[43margs\u001b[49m\u001b[43m)\u001b[49m\u001b[43m,\u001b[49m\n\u001b[1;32m   1506\u001b[0m \u001b[43m    \u001b[49m\u001b[43mallow_revert\u001b[49m\u001b[38;5;241;43m=\u001b[39;49m\u001b[43mtx\u001b[49m\u001b[43m[\u001b[49m\u001b[38;5;124;43m\"\u001b[39;49m\u001b[38;5;124;43mallow_revert\u001b[39;49m\u001b[38;5;124;43m\"\u001b[39;49m\u001b[43m]\u001b[49m\u001b[43m,\u001b[49m\n\u001b[1;32m   1507\u001b[0m \u001b[43m\u001b[49m\u001b[43m)\u001b[49m\n",
      "File \u001b[0;32m~/miniconda3/envs/nft/lib/python3.8/site-packages/brownie/network/account.py:642\u001b[0m, in \u001b[0;36m_PrivateKeyAccount.transfer\u001b[0;34m(self, to, amount, gas_limit, gas_buffer, gas_price, max_fee, priority_fee, data, nonce, required_confs, allow_revert, silent)\u001b[0m\n\u001b[1;32m    608\u001b[0m \u001b[38;5;28;01mdef\u001b[39;00m \u001b[38;5;21mtransfer\u001b[39m(\n\u001b[1;32m    609\u001b[0m     \u001b[38;5;28mself\u001b[39m,\n\u001b[1;32m    610\u001b[0m     to: \u001b[38;5;124m\"\u001b[39m\u001b[38;5;124mAccount\u001b[39m\u001b[38;5;124m\"\u001b[39m \u001b[38;5;241m=\u001b[39m \u001b[38;5;28;01mNone\u001b[39;00m,\n\u001b[0;32m   (...)\u001b[0m\n\u001b[1;32m    621\u001b[0m     silent: \u001b[38;5;28mbool\u001b[39m \u001b[38;5;241m=\u001b[39m \u001b[38;5;28;01mNone\u001b[39;00m,\n\u001b[1;32m    622\u001b[0m ) \u001b[38;5;241m-\u001b[39m\u001b[38;5;241m>\u001b[39m TransactionReceipt:\n\u001b[1;32m    623\u001b[0m     \u001b[38;5;124;03m\"\"\"\u001b[39;00m\n\u001b[1;32m    624\u001b[0m \u001b[38;5;124;03m    Broadcast a transaction from this account.\u001b[39;00m\n\u001b[1;32m    625\u001b[0m \n\u001b[0;32m   (...)\u001b[0m\n\u001b[1;32m    639\u001b[0m \u001b[38;5;124;03m        TransactionReceipt object\u001b[39;00m\n\u001b[1;32m    640\u001b[0m \u001b[38;5;124;03m    \"\"\"\u001b[39;00m\n\u001b[0;32m--> 642\u001b[0m     receipt, exc \u001b[38;5;241m=\u001b[39m \u001b[38;5;28;43mself\u001b[39;49m\u001b[38;5;241;43m.\u001b[39;49m\u001b[43m_make_transaction\u001b[49m\u001b[43m(\u001b[49m\n\u001b[1;32m    643\u001b[0m \u001b[43m        \u001b[49m\u001b[43mto\u001b[49m\u001b[43m,\u001b[49m\n\u001b[1;32m    644\u001b[0m \u001b[43m        \u001b[49m\u001b[43mamount\u001b[49m\u001b[43m,\u001b[49m\n\u001b[1;32m    645\u001b[0m \u001b[43m        \u001b[49m\u001b[43mgas_limit\u001b[49m\u001b[43m,\u001b[49m\n\u001b[1;32m    646\u001b[0m \u001b[43m        \u001b[49m\u001b[43mgas_buffer\u001b[49m\u001b[43m,\u001b[49m\n\u001b[1;32m    647\u001b[0m \u001b[43m        \u001b[49m\u001b[43mgas_price\u001b[49m\u001b[43m,\u001b[49m\n\u001b[1;32m    648\u001b[0m \u001b[43m        \u001b[49m\u001b[43mmax_fee\u001b[49m\u001b[43m,\u001b[49m\n\u001b[1;32m    649\u001b[0m \u001b[43m        \u001b[49m\u001b[43mpriority_fee\u001b[49m\u001b[43m,\u001b[49m\n\u001b[1;32m    650\u001b[0m \u001b[43m        \u001b[49m\u001b[43mdata\u001b[49m\u001b[43m \u001b[49m\u001b[38;5;129;43;01mor\u001b[39;49;00m\u001b[43m \u001b[49m\u001b[38;5;124;43m\"\u001b[39;49m\u001b[38;5;124;43m\"\u001b[39;49m\u001b[43m,\u001b[49m\n\u001b[1;32m    651\u001b[0m \u001b[43m        \u001b[49m\u001b[43mnonce\u001b[49m\u001b[43m,\u001b[49m\n\u001b[1;32m    652\u001b[0m \u001b[43m        \u001b[49m\u001b[38;5;124;43m\"\u001b[39;49m\u001b[38;5;124;43m\"\u001b[39;49m\u001b[43m,\u001b[49m\n\u001b[1;32m    653\u001b[0m \u001b[43m        \u001b[49m\u001b[43mrequired_confs\u001b[49m\u001b[43m,\u001b[49m\n\u001b[1;32m    654\u001b[0m \u001b[43m        \u001b[49m\u001b[43mallow_revert\u001b[49m\u001b[43m,\u001b[49m\n\u001b[1;32m    655\u001b[0m \u001b[43m        \u001b[49m\u001b[43msilent\u001b[49m\u001b[43m,\u001b[49m\n\u001b[1;32m    656\u001b[0m \u001b[43m    \u001b[49m\u001b[43m)\u001b[49m\n\u001b[1;32m    658\u001b[0m     \u001b[38;5;28;01mif\u001b[39;00m rpc\u001b[38;5;241m.\u001b[39mis_active():\n\u001b[1;32m    659\u001b[0m         undo_thread \u001b[38;5;241m=\u001b[39m threading\u001b[38;5;241m.\u001b[39mThread(\n\u001b[1;32m    660\u001b[0m             target\u001b[38;5;241m=\u001b[39mChain()\u001b[38;5;241m.\u001b[39m_add_to_undo_buffer,\n\u001b[1;32m    661\u001b[0m             args\u001b[38;5;241m=\u001b[39m(\n\u001b[0;32m   (...)\u001b[0m\n\u001b[1;32m    676\u001b[0m             daemon\u001b[38;5;241m=\u001b[39m\u001b[38;5;28;01mTrue\u001b[39;00m,\n\u001b[1;32m    677\u001b[0m         )\n",
      "File \u001b[0;32m~/miniconda3/envs/nft/lib/python3.8/site-packages/brownie/network/account.py:758\u001b[0m, in \u001b[0;36m_PrivateKeyAccount._make_transaction\u001b[0;34m(self, to, amount, gas_limit, gas_buffer, gas_price, max_fee, priority_fee, data, nonce, fn_name, required_confs, allow_revert, silent)\u001b[0m\n\u001b[1;32m    747\u001b[0m         revert_data \u001b[38;5;241m=\u001b[39m (exc\u001b[38;5;241m.\u001b[39mrevert_msg, exc\u001b[38;5;241m.\u001b[39mpc, exc\u001b[38;5;241m.\u001b[39mrevert_type)\n\u001b[1;32m    749\u001b[0m receipt \u001b[38;5;241m=\u001b[39m TransactionReceipt(\n\u001b[1;32m    750\u001b[0m     txid,\n\u001b[1;32m    751\u001b[0m     \u001b[38;5;28mself\u001b[39m,\n\u001b[0;32m   (...)\u001b[0m\n\u001b[1;32m    756\u001b[0m     revert_data\u001b[38;5;241m=\u001b[39mrevert_data,\n\u001b[1;32m    757\u001b[0m )\n\u001b[0;32m--> 758\u001b[0m receipt \u001b[38;5;241m=\u001b[39m \u001b[38;5;28;43mself\u001b[39;49m\u001b[38;5;241;43m.\u001b[39;49m\u001b[43m_await_confirmation\u001b[49m\u001b[43m(\u001b[49m\u001b[43mreceipt\u001b[49m\u001b[43m,\u001b[49m\u001b[43m \u001b[49m\u001b[43mrequired_confs\u001b[49m\u001b[43m,\u001b[49m\u001b[43m \u001b[49m\u001b[43mgas_strategy\u001b[49m\u001b[43m,\u001b[49m\u001b[43m \u001b[49m\u001b[43mgas_iter\u001b[49m\u001b[43m)\u001b[49m\n\u001b[1;32m    759\u001b[0m \u001b[38;5;28;01mreturn\u001b[39;00m receipt, exc\n",
      "File \u001b[0;32m~/miniconda3/envs/nft/lib/python3.8/site-packages/brownie/network/account.py:789\u001b[0m, in \u001b[0;36m_PrivateKeyAccount._await_confirmation\u001b[0;34m(self, receipt, required_confs, gas_strategy, gas_iter)\u001b[0m\n\u001b[1;32m    785\u001b[0m     \u001b[38;5;28;01mfor\u001b[39;00m receipt \u001b[38;5;129;01min\u001b[39;00m history\u001b[38;5;241m.\u001b[39mfilter(\n\u001b[1;32m    786\u001b[0m         sender\u001b[38;5;241m=\u001b[39m\u001b[38;5;28mself\u001b[39m, nonce\u001b[38;5;241m=\u001b[39mreceipt\u001b[38;5;241m.\u001b[39mnonce, key\u001b[38;5;241m=\u001b[39m\u001b[38;5;28;01mlambda\u001b[39;00m k: k\u001b[38;5;241m.\u001b[39mstatus \u001b[38;5;241m!=\u001b[39m \u001b[38;5;241m-\u001b[39m\u001b[38;5;241m2\u001b[39m\n\u001b[1;32m    787\u001b[0m     ):\n\u001b[1;32m    788\u001b[0m         receipt\u001b[38;5;241m.\u001b[39m_silent \u001b[38;5;241m=\u001b[39m \u001b[38;5;28;01mTrue\u001b[39;00m\n\u001b[0;32m--> 789\u001b[0m     \u001b[38;5;28;01mraise\u001b[39;00m exc\u001b[38;5;241m.\u001b[39mwith_traceback(\u001b[38;5;28;01mNone\u001b[39;00m)\n\u001b[1;32m    791\u001b[0m \u001b[38;5;28;01mif\u001b[39;00m receipt\u001b[38;5;241m.\u001b[39mstatus \u001b[38;5;241m!=\u001b[39m \u001b[38;5;241m-\u001b[39m\u001b[38;5;241m2\u001b[39m:\n\u001b[1;32m    792\u001b[0m     \u001b[38;5;28;01mreturn\u001b[39;00m receipt\n",
      "\u001b[0;31mKeyboardInterrupt\u001b[0m: "
     ]
    }
   ],
   "source": [
    "gas_strategy = LinearScalingStrategy(\"60 gwei\", \"75 gwei\", 1.1, time_duration=60)\n",
    "\n",
    "\n",
    "gas_price(gas_strategy)\n",
    "\n",
    "\n",
    "OpenSea.registerProxy(\n",
    "    {\"from\": account, \"gas_price\": gas_strategy, \"gas_limit\": 500000}\n",
    ")"
   ]
  },
  {
   "cell_type": "markdown",
   "id": "acf9a9cf",
   "metadata": {},
   "source": [
    "Sadly, the gas price this time is too high, so I can't register Opensea for now."
   ]
  },
  {
   "cell_type": "markdown",
   "id": "029cc5d7",
   "metadata": {},
   "source": [
    "## Reference\n",
    "\n",
    "* https://www.youtube.com/watch?v=M576WGiDBdQ&t=8373s"
   ]
  }
 ],
 "metadata": {
  "kernelspec": {
   "display_name": "Python 3 (ipykernel)",
   "language": "python",
   "name": "python3"
  },
  "language_info": {
   "codemirror_mode": {
    "name": "ipython",
    "version": 3
   },
   "file_extension": ".py",
   "mimetype": "text/x-python",
   "name": "python",
   "nbconvert_exporter": "python",
   "pygments_lexer": "ipython3",
   "version": "3.8.12"
  },
  "toc": {
   "base_numbering": 1,
   "nav_menu": {},
   "number_sections": false,
   "sideBar": true,
   "skip_h1_title": false,
   "title_cell": "Table of Contents",
   "title_sidebar": "Contents",
   "toc_cell": false,
   "toc_position": {},
   "toc_section_display": true,
   "toc_window_display": false
  },
  "varInspector": {
   "cols": {
    "lenName": 16,
    "lenType": 16,
    "lenVar": 40
   },
   "kernels_config": {
    "python": {
     "delete_cmd_postfix": "",
     "delete_cmd_prefix": "del ",
     "library": "var_list.py",
     "varRefreshCmd": "print(var_dic_list())"
    },
    "r": {
     "delete_cmd_postfix": ") ",
     "delete_cmd_prefix": "rm(",
     "library": "var_list.r",
     "varRefreshCmd": "cat(var_dic_list()) "
    }
   },
   "types_to_exclude": [
    "module",
    "function",
    "builtin_function_or_method",
    "instance",
    "_Feature"
   ],
   "window_display": false
  }
 },
 "nbformat": 4,
 "nbformat_minor": 5
}
