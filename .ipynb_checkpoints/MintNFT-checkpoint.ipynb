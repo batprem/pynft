{
 "cells": [
  {
   "cell_type": "markdown",
   "id": "f9bcd790",
   "metadata": {},
   "source": [
    "# Requirements\n",
    "\n",
    "## Python"
   ]
  },
  {
   "cell_type": "code",
   "execution_count": 1,
   "id": "1c4c5695",
   "metadata": {},
   "outputs": [
    {
     "name": "stdout",
     "output_type": "stream",
     "text": [
      "Python version 3.8.12\n"
     ]
    }
   ],
   "source": [
    "import sys\n",
    "\n",
    "python_version = (\n",
    "    f\"{sys.version_info.major}.\"\n",
    "    f\"{sys.version_info.minor}.\"\n",
    "    f\"{sys.version_info.micro}\"\n",
    ")\n",
    "print(f\"Python version {python_version}\")"
   ]
  },
  {
   "cell_type": "markdown",
   "id": "36b103ca",
   "metadata": {},
   "source": [
    "Choose any following methods to install dependcies\n",
    "* poetry (recommend) <br/><br/>\n",
    " `poetry install` <br/><br/>\n",
    "* pip <br/><br/>\n",
    "`pip install -r requirements.txt`\n",
    "\n",
    "## IPFS CLI\n",
    "\n",
    "Follow this URL https://docs.ipfs.io/install/command-line/#official-distributions"
   ]
  },
  {
   "cell_type": "markdown",
   "id": "dcf64131",
   "metadata": {},
   "source": [
    "# Import modules"
   ]
  },
  {
   "cell_type": "code",
   "execution_count": 2,
   "id": "4576906b",
   "metadata": {},
   "outputs": [
    {
     "name": "stdout",
     "output_type": "stream",
     "text": [
      "Compiling contracts...\n",
      "  Solc version: 0.8.11\n",
      "  Optimizer: Enabled  Runs: 200\n",
      "  EVM Version: Istanbul\n",
      "Generating build data...\n",
      " - OpenZeppelin/openzeppelin-contracts@4.2.0/Ownable\n",
      " - OpenZeppelin/openzeppelin-contracts@4.2.0/ERC721\n",
      " - OpenZeppelin/openzeppelin-contracts@4.2.0/IERC721\n",
      " - OpenZeppelin/openzeppelin-contracts@4.2.0/IERC721Receiver\n",
      " - OpenZeppelin/openzeppelin-contracts@4.2.0/IERC721Metadata\n",
      " - OpenZeppelin/openzeppelin-contracts@4.2.0/Address\n",
      " - OpenZeppelin/openzeppelin-contracts@4.2.0/Context\n",
      " - OpenZeppelin/openzeppelin-contracts@4.2.0/Counters\n",
      " - OpenZeppelin/openzeppelin-contracts@4.2.0/Strings\n",
      " - OpenZeppelin/openzeppelin-contracts@4.2.0/ERC165\n",
      " - OpenZeppelin/openzeppelin-contracts@4.2.0/IERC165\n",
      " - PYNFT\n",
      "\n"
     ]
    }
   ],
   "source": [
    "import brownie\n",
    "from brownie import accounts, project, config, network\n",
    "\n",
    "# Compile smart contracts\n",
    "p = project.load('.', name=\"pynft\")\n",
    "p.load_config()"
   ]
  },
  {
   "cell_type": "markdown",
   "id": "a59bd840",
   "metadata": {},
   "source": [
    "# Connect to chain"
   ]
  },
  {
   "cell_type": "code",
   "execution_count": 3,
   "id": "08edf126",
   "metadata": {},
   "outputs": [
    {
     "name": "stdout",
     "output_type": "stream",
     "text": [
      "Available networks\n",
      "Brownie v1.17.0 - Python development framework for Ethereum\n",
      "\n",
      "The following networks are declared:\n",
      "\n",
      "Ethereum\n",
      "\u001b[0;1;30m  ├─\u001b[0;mMainnet (Infura): \u001b[0;32mmainnet\u001b[0;m\n",
      "\u001b[0;1;30m  ├─\u001b[0;mRopsten (Infura): \u001b[0;32mropsten\u001b[0;m\n",
      "\u001b[0;1;30m  ├─\u001b[0;mRinkeby (Infura): \u001b[0;32mrinkeby\u001b[0;m\n",
      "\u001b[0;1;30m  ├─\u001b[0;mGoerli (Infura): \u001b[0;32mgoerli\u001b[0;m\n",
      "\u001b[0;1;30m  ├─\u001b[0;mKovan (Infura): \u001b[0;32mkovan\u001b[0;m\n",
      "\u001b[0;1;30m  ├─\u001b[0;mmainnet-fork-2: \u001b[0;32mmainnet-fork-2\u001b[0;m\n",
      "\u001b[0;1;30m  ├─\u001b[0;mmainnet-fork-3: \u001b[0;32mmainnet-fork-3\u001b[0;m\n",
      "\u001b[0;1;30m  ├─\u001b[0;mmainnet-fork-4: \u001b[0;32mmainnet-fork-4\u001b[0;m\n",
      "\u001b[0;1;30m  └─\u001b[0;mmainnet-fork-5: \u001b[0;32mmainnet-fork-5\u001b[0;m\n",
      "\n",
      "Ethereum Classic\n",
      "\u001b[0;1;30m  ├─\u001b[0;mMainnet: \u001b[0;32metc\u001b[0;m\n",
      "\u001b[0;1;30m  └─\u001b[0;mKotti: \u001b[0;32mkotti\u001b[0;m\n",
      "\n",
      "Arbitrum\n",
      "\u001b[0;1;30m  └─\u001b[0;mMainnet: \u001b[0;32marbitrum-main\u001b[0;m\n",
      "\n",
      "Binance Smart Chain\n",
      "\u001b[0;1;30m  ├─\u001b[0;mTestnet: \u001b[0;32mbsc-test\u001b[0;m\n",
      "\u001b[0;1;30m  └─\u001b[0;mMainnet: \u001b[0;32mbsc-main\u001b[0;m\n",
      "\n",
      "Fantom Opera\n",
      "\u001b[0;1;30m  ├─\u001b[0;mTestnet: \u001b[0;32mftm-test\u001b[0;m\n",
      "\u001b[0;1;30m  └─\u001b[0;mMainnet: \u001b[0;32mftm-main\u001b[0;m\n",
      "\n",
      "Harmony\n",
      "\u001b[0;1;30m  └─\u001b[0;mMainnet (Shard 0): \u001b[0;32mharmony-main\u001b[0;m\n",
      "\n",
      "Polygon\n",
      "\u001b[0;1;30m  ├─\u001b[0;mMainnet (Infura): \u001b[0;32mpolygon-main\u001b[0;m\n",
      "\u001b[0;1;30m  └─\u001b[0;mMumbai Testnet (Infura): \u001b[0;32mpolygon-test\u001b[0;m\n",
      "\n",
      "XDai\n",
      "\u001b[0;1;30m  ├─\u001b[0;mMainnet: \u001b[0;32mxdai-main\u001b[0;m\n",
      "\u001b[0;1;30m  └─\u001b[0;mTestnet: \u001b[0;32mxdai-test\u001b[0;m\n",
      "\n",
      "Eherium\n",
      "\u001b[0;1;30m  └─\u001b[0;mganache-local: \u001b[0;32mganache-local\u001b[0;m\n",
      "\n",
      "Etherium\n",
      "\u001b[0;1;30m  └─\u001b[0;mganache-local-2: \u001b[0;32mganache-local-2\u001b[0;m\n",
      "\n",
      "cronos\n",
      "\u001b[0;1;30m  └─\u001b[0;mcronos-testnet: \u001b[0;32mcronos-testnet\u001b[0;m\n",
      "\n",
      "Development\n",
      "\u001b[0;1;30m  ├─\u001b[0;mGanache-CLI: \u001b[0;32mdevelopment\u001b[0;m\n",
      "\u001b[0;1;30m  ├─\u001b[0;mGeth Dev: \u001b[0;32mgeth-dev\u001b[0;m\n",
      "\u001b[0;1;30m  ├─\u001b[0;mHardhat: \u001b[0;32mhardhat\u001b[0;m\n",
      "\u001b[0;1;30m  ├─\u001b[0;mHardhat (Mainnet Fork): \u001b[0;32mhardhat-fork\u001b[0;m\n",
      "\u001b[0;1;30m  ├─\u001b[0;mGanache-CLI (Mainnet Fork): \u001b[0;32mmainnet-fork\u001b[0;m\n",
      "\u001b[0;1;30m  ├─\u001b[0;mGanache-CLI (BSC-Mainnet Fork): \u001b[0;32mbsc-main-fork\u001b[0;m\n",
      "\u001b[0;1;30m  ├─\u001b[0;mGanache-CLI (FTM-Mainnet Fork): \u001b[0;32mftm-main-fork\u001b[0;m\n",
      "\u001b[0;1;30m  ├─\u001b[0;mGanache-CLI (Polygon-Mainnet Fork): \u001b[0;32mpolygon-main-fork\u001b[0;m\n",
      "\u001b[0;1;30m  ├─\u001b[0;mGanache-CLI (XDai-Mainnet Fork): \u001b[0;32mxdai-main-fork\u001b[0;m\n",
      "\u001b[0;1;30m  ├─\u001b[0;mlocal: \u001b[0;32mlocal\u001b[0;m\n",
      "\u001b[0;1;30m  ├─\u001b[0;mmainnet-fork-dev: \u001b[0;32mmainnet-fork-dev\u001b[0;m\n",
      "\u001b[0;1;30m  └─\u001b[0;mcronos-mainnet-fork: \u001b[0;32mcronos-mainnet-fork\u001b[0;m\n",
      "\n"
     ]
    }
   ],
   "source": [
    "import os\n",
    "\n",
    "print(\"Available networks\")\n",
    "print(os.popen(\"brownie networks list\").read())"
   ]
  },
  {
   "cell_type": "markdown",
   "id": "ce0502cb",
   "metadata": {},
   "source": [
    "## Connect"
   ]
  },
  {
   "cell_type": "code",
   "execution_count": 4,
   "id": "4dc937fc",
   "metadata": {},
   "outputs": [
    {
     "name": "stdout",
     "output_type": "stream",
     "text": [
      "\n",
      "Launching 'ganache-cli --accounts 10 --fork https://mainnet.infura.io/v3/38b54b23ca6f4ae19fae71e6838c8d89 --mnemonic brownie --port 8545 --hardfork istanbul'...\n"
     ]
    }
   ],
   "source": [
    "network.connect('mainnet-fork-dev') # Main net fork\n",
    "# network.connect('mainnet-fork-dev') # Main net\n",
    "# network.connect(\"rinkeby\") # Test net rinkeby"
   ]
  },
  {
   "cell_type": "markdown",
   "id": "15fe11a0",
   "metadata": {},
   "source": [
    "# Account"
   ]
  },
  {
   "cell_type": "code",
   "execution_count": 5,
   "id": "f488ae94",
   "metadata": {},
   "outputs": [
    {
     "name": "stdout",
     "output_type": "stream",
     "text": [
      "Brownie v1.17.0 - Python development framework for Ethereum\r\n",
      "\r\n",
      "Found 4 accounts:\r\n",
      " \u001b[0;1;30m├─\u001b[0;1;34meth-main\u001b[0;m: \u001b[0;1;35m0xf6EfbD8142A18E741360b41301eDFdbD2719D03C\u001b[0;m\r\n",
      " \u001b[0;1;30m├─\u001b[0;1;34mprem\u001b[0;m: \u001b[0;1;35m0xedEa45C169753E1af9bf1cb1c374Ca83EBd0d6BE\u001b[0;m\r\n",
      " \u001b[0;1;30m├─\u001b[0;1;34mtest\u001b[0;m: \u001b[0;1;35m0xA3c11aDE2244474EB2F8167921216AB6541F9bA8\u001b[0;m\r\n",
      " \u001b[0;1;30m└─\u001b[0;1;34mtest_2\u001b[0;m: \u001b[0;1;35m0xA3c11aDE2244474EB2F8167921216AB6541F9bA8\u001b[0;m\r\n"
     ]
    }
   ],
   "source": [
    "!brownie accounts list"
   ]
  },
  {
   "cell_type": "code",
   "execution_count": 6,
   "id": "c966cc7b",
   "metadata": {},
   "outputs": [
    {
     "name": "stdout",
     "output_type": "stream",
     "text": [
      "Enter password for \"eth-main\": ········\n"
     ]
    },
    {
     "data": {
      "text/plain": [
       "<LocalAccount '0xf6EfbD8142A18E741360b41301eDFdbD2719D03C'>"
      ]
     },
     "execution_count": 6,
     "metadata": {},
     "output_type": "execute_result"
    }
   ],
   "source": [
    "from brownie import accounts\n",
    "\n",
    "\n",
    "accounts.load(\"eth-main\") # Main net\n"
   ]
  },
  {
   "cell_type": "code",
   "execution_count": 7,
   "id": "6d9ee165",
   "metadata": {},
   "outputs": [],
   "source": [
    "account = accounts[0]"
   ]
  },
  {
   "cell_type": "markdown",
   "id": "61e8d215",
   "metadata": {},
   "source": [
    "# Dump variables"
   ]
  },
  {
   "cell_type": "code",
   "execution_count": 8,
   "id": "d1d87491",
   "metadata": {},
   "outputs": [
    {
     "name": "stdout",
     "output_type": "stream",
     "text": [
      "_path\n",
      "_envvars\n",
      "_structure\n",
      "_build_path\n",
      "_name\n",
      "_active\n",
      "_sources\n",
      "_build\n",
      "_compiler_config\n",
      "interface\n",
      "_containers\n",
      "PYNFT\n",
      "ERC721\n",
      "Strings\n",
      "__all__\n",
      "_namespaces\n"
     ]
    }
   ],
   "source": [
    "for key, value in p.__dict__.items():\n",
    "    print(key)\n",
    "    brownie.__dict__[key] = p.__dict__[key]"
   ]
  },
  {
   "cell_type": "markdown",
   "id": "45eb40ef",
   "metadata": {},
   "source": [
    "# Deploy contracts"
   ]
  },
  {
   "cell_type": "code",
   "execution_count": 11,
   "id": "13c1e114",
   "metadata": {},
   "outputs": [
    {
     "name": "stdout",
     "output_type": "stream",
     "text": [
      "\r",
      "Transaction sent: \u001b[0;1;34m0x6b4d07ed521414e6cd2d14d05d595b7e045cecc6c6cbe50675e24082b6dfbba8\u001b[0;m\n",
      "  Gas price: \u001b[0;1;34m0.0\u001b[0;m gwei   Gas limit: \u001b[0;1;34m6721975\u001b[0;m   Nonce: \u001b[0;1;34m2\u001b[0;m\n",
      "\r",
      "  PYNFT.constructor confirmed   Block: \u001b[0;1;34m14075995\u001b[0;m   Gas used: \u001b[0;1;34m1305445\u001b[0;m (\u001b[0;1;34m19.42%\u001b[0;m)\n",
      "  PYNFT deployed at: \u001b[0;1;34m0xE7eD6747FaC5360f88a2EFC03E00d25789F69291\u001b[0;m\n",
      "\n"
     ]
    },
    {
     "data": {
      "text/plain": [
       "<PYNFT Contract '0xE7eD6747FaC5360f88a2EFC03E00d25789F69291'>"
      ]
     },
     "execution_count": 11,
     "metadata": {},
     "output_type": "execute_result"
    }
   ],
   "source": [
    "from brownie import PYNFT\n",
    "\n",
    "\n",
    "PYNFT.deploy({\"from\": account})"
   ]
  },
  {
   "cell_type": "markdown",
   "id": "50142ca2",
   "metadata": {},
   "source": [
    "# Upload file to IPFS"
   ]
  },
  {
   "cell_type": "markdown",
   "id": "70ae26de",
   "metadata": {},
   "source": [
    "## Assets"
   ]
  },
  {
   "cell_type": "code",
   "execution_count": 38,
   "id": "bdda14c6",
   "metadata": {},
   "outputs": [
    {
     "name": "stdout",
     "output_type": "stream",
     "text": [
      "QmTPJrBisi5EhpuFqbikXeaVfgYbZ3gzjwue1Yf8rbLCg4\n",
      "QmUoGY6GbvzSQi2gP7YHtVMRocNW1Xs16ZUHxWcTgWHwJb\n"
     ]
    }
   ],
   "source": [
    "prefix = \"assets/\"\n",
    "\n",
    "\n",
    "def upload_to_ipfs(filepath: str) -> str:\n",
    "    return os.popen(f\"ipfs add -q {filepath}\").read().strip()\n",
    "\n",
    "def is_an_image(filename: str):\n",
    "    \"\"\"\n",
    "    Description:\n",
    "        Check if a file is an image\n",
    "    paramgs:\n",
    "        filename:\n",
    "            (str) filename, should be with its extension\n",
    "    returns:\n",
    "        (str) qid of ipfs\n",
    "    \"\"\"\n",
    "    for extention in [\".png\", \"jpg\"]:\n",
    "        if filename.endswith(extention):\n",
    "            return True\n",
    "    return False\n",
    "\n",
    "class Attribute:\n",
    "    pass\n",
    "\n",
    "IPFS_PREFIX = \"https://ipfs.io/ipfs\"\n",
    "\n",
    "attribute = Attribute()\n",
    "for asset in os.listdir(prefix):\n",
    "\n",
    "    qid = upload_to_ipfs(f\"{prefix}{asset}\".replace(\" \", \"\\ \"))\n",
    "    asset = asset.replace(\" \", \"-\")\n",
    "    ipfs_share_link = f\"{IPFS_PREFIX}/{qid}?filename={asset}\"\n",
    "    if is_an_image(asset):\n",
    "        setattr(attribute, \"image_url\", ipfs_share_link)\n",
    "    else:\n",
    "        setattr(attribute, \"external_url\", ipfs_share_link)\n",
    "    print(qid)"
   ]
  },
  {
   "cell_type": "code",
   "execution_count": 39,
   "id": "e772dd83",
   "metadata": {},
   "outputs": [
    {
     "data": {
      "text/plain": [
       "'https://ipfs.io/ipfs/QmUoGY6GbvzSQi2gP7YHtVMRocNW1Xs16ZUHxWcTgWHwJb?filename=fruit-list.py'"
      ]
     },
     "execution_count": 39,
     "metadata": {},
     "output_type": "execute_result"
    }
   ],
   "source": [
    "ipfs_share_link"
   ]
  },
  {
   "cell_type": "code",
   "execution_count": 28,
   "id": "b6da64ec",
   "metadata": {},
   "outputs": [],
   "source": [
    "x = object()"
   ]
  },
  {
   "cell_type": "code",
   "execution_count": 33,
   "id": "dd080763",
   "metadata": {},
   "outputs": [],
   "source": [
    "class Collect:\n",
    "    pass\n",
    "x = Collect()\n",
    "x\n",
    "setattr(x, \"img\", 1)"
   ]
  },
  {
   "cell_type": "code",
   "execution_count": 37,
   "id": "08895949",
   "metadata": {},
   "outputs": [],
   "source": [
    "x.__dict__ = {\"test\": 1}"
   ]
  }
 ],
 "metadata": {
  "kernelspec": {
   "display_name": "Python 3 (ipykernel)",
   "language": "python",
   "name": "python3"
  },
  "language_info": {
   "codemirror_mode": {
    "name": "ipython",
    "version": 3
   },
   "file_extension": ".py",
   "mimetype": "text/x-python",
   "name": "python",
   "nbconvert_exporter": "python",
   "pygments_lexer": "ipython3",
   "version": "3.8.12"
  },
  "toc": {
   "base_numbering": 1,
   "nav_menu": {},
   "number_sections": true,
   "sideBar": true,
   "skip_h1_title": false,
   "title_cell": "Table of Contents",
   "title_sidebar": "Contents",
   "toc_cell": false,
   "toc_position": {},
   "toc_section_display": true,
   "toc_window_display": false
  },
  "varInspector": {
   "cols": {
    "lenName": 16,
    "lenType": 16,
    "lenVar": 40
   },
   "kernels_config": {
    "python": {
     "delete_cmd_postfix": "",
     "delete_cmd_prefix": "del ",
     "library": "var_list.py",
     "varRefreshCmd": "print(var_dic_list())"
    },
    "r": {
     "delete_cmd_postfix": ") ",
     "delete_cmd_prefix": "rm(",
     "library": "var_list.r",
     "varRefreshCmd": "cat(var_dic_list()) "
    }
   },
   "types_to_exclude": [
    "module",
    "function",
    "builtin_function_or_method",
    "instance",
    "_Feature"
   ],
   "window_display": false
  }
 },
 "nbformat": 4,
 "nbformat_minor": 5
}
